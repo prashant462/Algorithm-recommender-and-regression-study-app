{
  "nbformat": 4,
  "nbformat_minor": 0,
  "metadata": {
    "colab": {
      "name": "Untitled9.ipynb",
      "provenance": [],
      "collapsed_sections": [],
      "authorship_tag": "ABX9TyN8ikqg9JxCCLyI5SzN3zgl",
      "include_colab_link": true
    },
    "kernelspec": {
      "display_name": "Python 3",
      "name": "python3"
    }
  },
  "cells": [
    {
      "cell_type": "markdown",
      "metadata": {
        "id": "view-in-github",
        "colab_type": "text"
      },
      "source": [
        "<a href=\"https://colab.research.google.com/github/prashant462/Algorithm-recommender-and-regression-study-app/blob/master/Untitled9.ipynb\" target=\"_parent\"><img src=\"https://colab.research.google.com/assets/colab-badge.svg\" alt=\"Open In Colab\"/></a>"
      ]
    },
    {
      "cell_type": "code",
      "metadata": {
        "colab": {
          "base_uri": "https://localhost:8080/"
        },
        "id": "Gyt9rkh0grO6",
        "outputId": "9ac75779-18f2-434d-e647-ba0bb6d30c81"
      },
      "source": [
        "pip install librosa soundfile numpy sklearn pyaudio sound file"
      ],
      "execution_count": null,
      "outputs": [
        {
          "output_type": "stream",
          "text": [
            "Requirement already satisfied: librosa in /usr/local/lib/python3.6/dist-packages (0.6.3)\n",
            "Collecting soundfile\n",
            "  Downloading https://files.pythonhosted.org/packages/eb/f2/3cbbbf3b96fb9fa91582c438b574cff3f45b29c772f94c400e2c99ef5db9/SoundFile-0.10.3.post1-py2.py3-none-any.whl\n",
            "Requirement already satisfied: numpy in /usr/local/lib/python3.6/dist-packages (1.19.4)\n",
            "Requirement already satisfied: sklearn in /usr/local/lib/python3.6/dist-packages (0.0)\n",
            "Collecting pyaudio\n",
            "  Downloading https://files.pythonhosted.org/packages/ab/42/b4f04721c5c5bfc196ce156b3c768998ef8c0ae3654ed29ea5020c749a6b/PyAudio-0.2.11.tar.gz\n",
            "Collecting sound\n",
            "\u001b[?25l  Downloading https://files.pythonhosted.org/packages/aa/11/74d2f6f62b1aea1c373b9c51c8bd7abf824e7438e3882388c0eed912dab7/sound-0.1.0-py3-none-any.whl (43kB)\n",
            "\u001b[K     |████████████████████████████████| 51kB 7.3MB/s \n",
            "\u001b[?25hCollecting file\n",
            "  Downloading https://files.pythonhosted.org/packages/0a/49/317ac8ed10afb25c4c24972ea4de4c5507d6b0ab13bca4941c9a0bdc64ea/file-0.3.0.tar.gz\n",
            "Requirement already satisfied: numba>=0.38.0 in /usr/local/lib/python3.6/dist-packages (from librosa) (0.48.0)\n",
            "Requirement already satisfied: resampy>=0.2.0 in /usr/local/lib/python3.6/dist-packages (from librosa) (0.2.2)\n",
            "Requirement already satisfied: decorator>=3.0.0 in /usr/local/lib/python3.6/dist-packages (from librosa) (4.4.2)\n",
            "Requirement already satisfied: audioread>=2.0.0 in /usr/local/lib/python3.6/dist-packages (from librosa) (2.1.9)\n",
            "Requirement already satisfied: scikit-learn!=0.19.0,>=0.14.0 in /usr/local/lib/python3.6/dist-packages (from librosa) (0.22.2.post1)\n",
            "Requirement already satisfied: six>=1.3 in /usr/local/lib/python3.6/dist-packages (from librosa) (1.15.0)\n",
            "Requirement already satisfied: scipy>=1.0.0 in /usr/local/lib/python3.6/dist-packages (from librosa) (1.4.1)\n",
            "Requirement already satisfied: joblib>=0.12 in /usr/local/lib/python3.6/dist-packages (from librosa) (1.0.0)\n",
            "Requirement already satisfied: cffi>=1.0 in /usr/local/lib/python3.6/dist-packages (from soundfile) (1.14.4)\n",
            "Collecting darr\n",
            "\u001b[?25l  Downloading https://files.pythonhosted.org/packages/61/4c/2f2c691fb89420bc76dce949357002d30ba4ee5101ef0a90078f7a5fc414/darr-0.2.2-py3-none-any.whl (41kB)\n",
            "\u001b[K     |████████████████████████████████| 51kB 7.5MB/s \n",
            "\u001b[?25hRequirement already satisfied: setuptools in /usr/local/lib/python3.6/dist-packages (from numba>=0.38.0->librosa) (51.0.0)\n",
            "Requirement already satisfied: llvmlite<0.32.0,>=0.31.0dev0 in /usr/local/lib/python3.6/dist-packages (from numba>=0.38.0->librosa) (0.31.0)\n",
            "Requirement already satisfied: pycparser in /usr/local/lib/python3.6/dist-packages (from cffi>=1.0->soundfile) (2.20)\n",
            "Building wheels for collected packages: pyaudio, file\n",
            "  Building wheel for pyaudio (setup.py) ... \u001b[?25lerror\n",
            "\u001b[31m  ERROR: Failed building wheel for pyaudio\u001b[0m\n",
            "\u001b[?25h  Running setup.py clean for pyaudio\n",
            "  Building wheel for file (setup.py) ... \u001b[?25lerror\n",
            "\u001b[31m  ERROR: Failed building wheel for file\u001b[0m\n",
            "\u001b[?25h  Running setup.py clean for file\n",
            "Failed to build pyaudio file\n",
            "Installing collected packages: soundfile, pyaudio, darr, sound, file\n",
            "    Running setup.py install for pyaudio ... \u001b[?25l\u001b[?25herror\n",
            "\u001b[31mERROR: Command errored out with exit status 1: /usr/bin/python3 -u -c 'import sys, setuptools, tokenize; sys.argv[0] = '\"'\"'/tmp/pip-install-0ej8x355/pyaudio/setup.py'\"'\"'; __file__='\"'\"'/tmp/pip-install-0ej8x355/pyaudio/setup.py'\"'\"';f=getattr(tokenize, '\"'\"'open'\"'\"', open)(__file__);code=f.read().replace('\"'\"'\\r\\n'\"'\"', '\"'\"'\\n'\"'\"');f.close();exec(compile(code, __file__, '\"'\"'exec'\"'\"'))' install --record /tmp/pip-record-3mrdklrv/install-record.txt --single-version-externally-managed --compile Check the logs for full command output.\u001b[0m\n"
          ],
          "name": "stdout"
        }
      ]
    },
    {
      "cell_type": "code",
      "metadata": {
        "id": "ZJn-uIvPg2sa"
      },
      "source": [
        "import librosa\n",
        "import soundfile\n",
        "import os, glob, pickle\n",
        "import numpy as np\n",
        "from sklearn.model_selection import train_test_split\n",
        "from sklearn.neural_network import MLPClassifier\n",
        "from sklearn.metrics import accuracy_score\n",
        "from sklearn.preprocessing import StandardScaler\n",
        "from sklearn.linear_model import LogisticRegression\n",
        "from sklearn.neighbors import KNeighborsClassifier\n",
        "from sklearn.svm import LinearSVC\n",
        "from sklearn.ensemble import RandomForestClassifier\n",
        "from sklearn.pipeline import Pipeline\n",
        "from sklearn.metrics import accuracy_score,confusion_matrix,classification_report\n"
      ],
      "execution_count": null,
      "outputs": []
    },
    {
      "cell_type": "code",
      "metadata": {
        "id": "xiCb8T5OhIuO"
      },
      "source": [
        "def extract_feature(file_name, mfcc, chroma, mel):\n",
        "    with soundfile.SoundFile(file_name) as sound_file:\n",
        "        X = sound_file.read(dtype=\"float32\")\n",
        "        sample_rate=sound_file.samplerate\n",
        "        if chroma:\n",
        "            stft=np.abs(librosa.stft(X))\n",
        "        result=np.array([])\n",
        "        if mfcc:\n",
        "            mfccs=np.mean(librosa.feature.mfcc(y=X, sr=sample_rate, n_mfcc=40).T, axis=0)\n",
        "            result=np.hstack((result, mfccs))\n",
        "        if chroma:\n",
        "            chroma=np.mean(librosa.feature.chroma_stft(S=stft, sr=sample_rate).T,axis=0)\n",
        "            result=np.hstack((result, chroma))\n",
        "        if mel:\n",
        "            mel=np.mean(librosa.feature.melspectrogram(X, sr=sample_rate).T,axis=0)\n",
        "            result=np.hstack((result, mel))\n",
        "    return result "
      ],
      "execution_count": null,
      "outputs": []
    },
    {
      "cell_type": "code",
      "metadata": {
        "id": "SnB265GUhQIx"
      },
      "source": [
        "emotions={\n",
        "  '01':'neutral',\n",
        "  '02':'calm',\n",
        "  '03':'happy',\n",
        "  '04':'sad',\n",
        "  '05':'angry',\n",
        "  '06':'fearful',\n",
        "  '07':'disgust',\n",
        "  '08':'surprised'\n",
        "}\n",
        "global observed_emotions\n",
        "observed_emotions=['calm', 'happy', 'fearful', 'disgust']"
      ],
      "execution_count": null,
      "outputs": []
    },
    {
      "cell_type": "code",
      "metadata": {
        "colab": {
          "base_uri": "https://localhost:8080/"
        },
        "id": "zQvEUKrCMcvm",
        "outputId": "58c2c327-6525-4e82-c888-e50595e52da0"
      },
      "source": [
        "from google.colab import drive\n",
        "drive.mount('/content/datset')"
      ],
      "execution_count": null,
      "outputs": [
        {
          "output_type": "stream",
          "text": [
            "Mounted at /content/datset\n"
          ],
          "name": "stdout"
        }
      ]
    },
    {
      "cell_type": "code",
      "metadata": {
        "id": "5hEd-HnyMh8p"
      },
      "source": [
        "def load_data(test_size=0.2):\n",
        "    x,y=[],[]\n",
        "    for file in glob.glob(\"datset/My Drive/datset/Actor_*/*.wav\"):\n",
        "      file_name=os.path.basename(file)\n",
        "      emotion=emotions[file_name.split(\"-\")[2]]\n",
        "      if emotion not in observed_emotions:\n",
        "          continue\n",
        "      feature=extract_feature(file, mfcc=True, chroma=True, mel=True)\n",
        "      x.append(feature)\n",
        "      y.append(emotion)\n",
        "    return train_test_split(np.array(x), y, test_size=test_size, random_state=9)"
      ],
      "execution_count": null,
      "outputs": []
    },
    {
      "cell_type": "code",
      "metadata": {
        "id": "L8RfCksBOoCC"
      },
      "source": [
        "x_train,x_test,y_train,y_test=load_data(test_size=0.25)"
      ],
      "execution_count": null,
      "outputs": []
    },
    {
      "cell_type": "code",
      "metadata": {
        "colab": {
          "base_uri": "https://localhost:8080/"
        },
        "id": "YH1RBF8wOyhy",
        "outputId": "8451de10-9c61-4e94-9fa1-8942ee00c814"
      },
      "source": [
        "print((x_train.shape[0], x_test.shape[0]))"
      ],
      "execution_count": null,
      "outputs": [
        {
          "output_type": "stream",
          "text": [
            "(557, 186)\n"
          ],
          "name": "stdout"
        }
      ]
    },
    {
      "cell_type": "code",
      "metadata": {
        "id": "0XpZ7OwLSYd0"
      },
      "source": [
        "classifier_names = [\"Logistic Regression\", \"KNN\", \"Random Forest\",\"SVM\",\"MLP\"]\r\n",
        "classifiers = [LogisticRegression(), KNeighborsClassifier(), RandomForestClassifier(), LinearSVC(),MLPClassifier()]\r\n",
        "global zipped_clf \r\n",
        "zipped_clf= zip(classifier_names,classifiers)"
      ],
      "execution_count": null,
      "outputs": []
    },
    {
      "cell_type": "code",
      "metadata": {
        "id": "bZ7fs6ASTgVO"
      },
      "source": [
        "def classifier(classifier, t_train, c_train, t_test, c_test):\r\n",
        "    result = []\r\n",
        "    for n,c in classifier:\r\n",
        "        checker_pipeline = Pipeline([\r\n",
        "            ('standardize', StandardScaler()),                         \r\n",
        "            ('classifier', c)\r\n",
        "        ])\r\n",
        "        print(\"Validation result for {}\".format(n))\r\n",
        "        print()\r\n",
        "        print(c)\r\n",
        "        clf_acc = fit_classifier(checker_pipeline, t_train, c_train, t_test,c_test)\r\n",
        "        result.append((n,clf_acc))\r\n",
        "    return result"
      ],
      "execution_count": null,
      "outputs": []
    },
    {
      "cell_type": "code",
      "metadata": {
        "id": "evdw68woTigT"
      },
      "source": [
        "def fit_classifier(pipeline, x_train, y_train, x_test, y_test):\r\n",
        "    model_fit = pipeline.fit(x_train, y_train)\r\n",
        "    y_pred = model_fit.predict(x_test)\r\n",
        "    accuracy = accuracy_score(y_test, y_pred)\r\n",
        "    print()\r\n",
        "    print(\"accuracy score: {0:.2f}%\".format(accuracy*100))\r\n",
        "    print()\r\n",
        "    print(classification_report(y_test, y_pred, target_names=observed_emotions))\r\n",
        "    print(confusion_matrix(y_test, y_pred))\r\n",
        "    print(\"-\"*150)\r\n",
        "    return accuracy"
      ],
      "execution_count": null,
      "outputs": []
    },
    {
      "cell_type": "code",
      "metadata": {
        "colab": {
          "base_uri": "https://localhost:8080/"
        },
        "id": "PifGhFrpTsar",
        "outputId": "49883f66-0585-4469-f149-77ac595611f3"
      },
      "source": [
        "result = classifier(zipped_clf, x_train, y_train, x_test, y_test)"
      ],
      "execution_count": null,
      "outputs": [
        {
          "output_type": "stream",
          "text": [
            "Validation result for Logistic Regression\n",
            "\n",
            "LogisticRegression(C=1.0, class_weight=None, dual=False, fit_intercept=True,\n",
            "                   intercept_scaling=1, l1_ratio=None, max_iter=100,\n",
            "                   multi_class='auto', n_jobs=None, penalty='l2',\n",
            "                   random_state=None, solver='lbfgs', tol=0.0001, verbose=0,\n",
            "                   warm_start=False)\n",
            "\n",
            "accuracy score: 68.82%\n",
            "\n",
            "              precision    recall  f1-score   support\n",
            "\n",
            "        calm       0.75      0.82      0.79        40\n",
            "       happy       0.60      0.81      0.69        47\n",
            "     fearful       0.71      0.69      0.70        52\n",
            "     disgust       0.75      0.45      0.56        47\n",
            "\n",
            "    accuracy                           0.69       186\n",
            "   macro avg       0.70      0.69      0.68       186\n",
            "weighted avg       0.70      0.69      0.68       186\n",
            "\n",
            "[[33  3  2  2]\n",
            " [ 4 38  2  3]\n",
            " [ 3 11 36  2]\n",
            " [ 4 11 11 21]]\n",
            "------------------------------------------------------------------------------------------------------------------------------------------------------\n",
            "Validation result for KNN\n",
            "\n",
            "KNeighborsClassifier(algorithm='auto', leaf_size=30, metric='minkowski',\n",
            "                     metric_params=None, n_jobs=None, n_neighbors=5, p=2,\n",
            "                     weights='uniform')\n"
          ],
          "name": "stdout"
        },
        {
          "output_type": "stream",
          "text": [
            "/usr/local/lib/python3.6/dist-packages/sklearn/linear_model/_logistic.py:940: ConvergenceWarning: lbfgs failed to converge (status=1):\n",
            "STOP: TOTAL NO. of ITERATIONS REACHED LIMIT.\n",
            "\n",
            "Increase the number of iterations (max_iter) or scale the data as shown in:\n",
            "    https://scikit-learn.org/stable/modules/preprocessing.html\n",
            "Please also refer to the documentation for alternative solver options:\n",
            "    https://scikit-learn.org/stable/modules/linear_model.html#logistic-regression\n",
            "  extra_warning_msg=_LOGISTIC_SOLVER_CONVERGENCE_MSG)\n"
          ],
          "name": "stderr"
        },
        {
          "output_type": "stream",
          "text": [
            "\n",
            "accuracy score: 66.13%\n",
            "\n",
            "              precision    recall  f1-score   support\n",
            "\n",
            "        calm       0.71      0.93      0.80        40\n",
            "       happy       0.61      0.81      0.70        47\n",
            "     fearful       0.71      0.62      0.66        52\n",
            "     disgust       0.59      0.34      0.43        47\n",
            "\n",
            "    accuracy                           0.66       186\n",
            "   macro avg       0.66      0.67      0.65       186\n",
            "weighted avg       0.66      0.66      0.64       186\n",
            "\n",
            "[[37  2  1  0]\n",
            " [ 5 38  1  3]\n",
            " [ 2 10 32  8]\n",
            " [ 8 12 11 16]]\n",
            "------------------------------------------------------------------------------------------------------------------------------------------------------\n",
            "Validation result for Random Forest\n",
            "\n",
            "RandomForestClassifier(bootstrap=True, ccp_alpha=0.0, class_weight=None,\n",
            "                       criterion='gini', max_depth=None, max_features='auto',\n",
            "                       max_leaf_nodes=None, max_samples=None,\n",
            "                       min_impurity_decrease=0.0, min_impurity_split=None,\n",
            "                       min_samples_leaf=1, min_samples_split=2,\n",
            "                       min_weight_fraction_leaf=0.0, n_estimators=100,\n",
            "                       n_jobs=None, oob_score=False, random_state=None,\n",
            "                       verbose=0, warm_start=False)\n",
            "\n",
            "accuracy score: 70.97%\n",
            "\n",
            "              precision    recall  f1-score   support\n",
            "\n",
            "        calm       0.77      0.93      0.84        40\n",
            "       happy       0.60      0.81      0.69        47\n",
            "     fearful       0.81      0.58      0.67        52\n",
            "     disgust       0.71      0.57      0.64        47\n",
            "\n",
            "    accuracy                           0.71       186\n",
            "   macro avg       0.72      0.72      0.71       186\n",
            "weighted avg       0.72      0.71      0.70       186\n",
            "\n",
            "[[37  2  0  1]\n",
            " [ 3 38  1  5]\n",
            " [ 5 12 30  5]\n",
            " [ 3 11  6 27]]\n",
            "------------------------------------------------------------------------------------------------------------------------------------------------------\n",
            "Validation result for SVM\n",
            "\n",
            "LinearSVC(C=1.0, class_weight=None, dual=True, fit_intercept=True,\n",
            "          intercept_scaling=1, loss='squared_hinge', max_iter=1000,\n",
            "          multi_class='ovr', penalty='l2', random_state=None, tol=0.0001,\n",
            "          verbose=0)\n"
          ],
          "name": "stdout"
        },
        {
          "output_type": "stream",
          "text": [
            "/usr/local/lib/python3.6/dist-packages/sklearn/svm/_base.py:947: ConvergenceWarning: Liblinear failed to converge, increase the number of iterations.\n",
            "  \"the number of iterations.\", ConvergenceWarning)\n"
          ],
          "name": "stderr"
        },
        {
          "output_type": "stream",
          "text": [
            "\n",
            "accuracy score: 67.20%\n",
            "\n",
            "              precision    recall  f1-score   support\n",
            "\n",
            "        calm       0.69      0.82      0.75        40\n",
            "       happy       0.62      0.77      0.69        47\n",
            "     fearful       0.68      0.65      0.67        52\n",
            "     disgust       0.73      0.47      0.57        47\n",
            "\n",
            "    accuracy                           0.67       186\n",
            "   macro avg       0.68      0.68      0.67       186\n",
            "weighted avg       0.68      0.67      0.67       186\n",
            "\n",
            "[[33  3  3  1]\n",
            " [ 3 36  3  5]\n",
            " [ 5 11 34  2]\n",
            " [ 7  8 10 22]]\n",
            "------------------------------------------------------------------------------------------------------------------------------------------------------\n",
            "Validation result for MLP\n",
            "\n",
            "MLPClassifier(activation='relu', alpha=0.0001, batch_size='auto', beta_1=0.9,\n",
            "              beta_2=0.999, early_stopping=False, epsilon=1e-08,\n",
            "              hidden_layer_sizes=(100,), learning_rate='constant',\n",
            "              learning_rate_init=0.001, max_fun=15000, max_iter=200,\n",
            "              momentum=0.9, n_iter_no_change=10, nesterovs_momentum=True,\n",
            "              power_t=0.5, random_state=None, shuffle=True, solver='adam',\n",
            "              tol=0.0001, validation_fraction=0.1, verbose=False,\n",
            "              warm_start=False)\n",
            "\n",
            "accuracy score: 77.96%\n",
            "\n",
            "              precision    recall  f1-score   support\n",
            "\n",
            "        calm       0.84      0.90      0.87        40\n",
            "       happy       0.75      0.87      0.80        47\n",
            "     fearful       0.80      0.75      0.77        52\n",
            "     disgust       0.74      0.62      0.67        47\n",
            "\n",
            "    accuracy                           0.78       186\n",
            "   macro avg       0.78      0.78      0.78       186\n",
            "weighted avg       0.78      0.78      0.78       186\n",
            "\n",
            "[[36  0  3  1]\n",
            " [ 2 41  1  3]\n",
            " [ 1  6 39  6]\n",
            " [ 4  8  6 29]]\n",
            "------------------------------------------------------------------------------------------------------------------------------------------------------\n"
          ],
          "name": "stdout"
        },
        {
          "output_type": "stream",
          "text": [
            "/usr/local/lib/python3.6/dist-packages/sklearn/neural_network/_multilayer_perceptron.py:571: ConvergenceWarning: Stochastic Optimizer: Maximum iterations (200) reached and the optimization hasn't converged yet.\n",
            "  % self.max_iter, ConvergenceWarning)\n"
          ],
          "name": "stderr"
        }
      ]
    },
    {
      "cell_type": "code",
      "metadata": {
        "colab": {
          "base_uri": "https://localhost:8080/"
        },
        "id": "IWzoJQQqQvpC",
        "outputId": "3b4446fd-92f8-4a90-e9a0-fa3489cf46d9"
      },
      "source": [
        "l2=[]\r\n",
        "acc = {}\r\n",
        "for i in range(len(result)):\r\n",
        "    acc[result[i][0]] = result[i][1]*100\r\n",
        "    l2.append(result[i][1]*100)\r\n",
        "    print('algorithm = ',result[i][0], '\\naccuracy =',result[i][1]*100)"
      ],
      "execution_count": null,
      "outputs": [
        {
          "output_type": "stream",
          "text": [
            "algorithm =  Logistic Regression \n",
            "accuracy = 68.81720430107528\n",
            "algorithm =  KNN \n",
            "accuracy = 66.12903225806451\n",
            "algorithm =  Random Forest \n",
            "accuracy = 72.58064516129032\n",
            "algorithm =  SVM \n",
            "accuracy = 67.74193548387096\n",
            "algorithm =  MLP \n",
            "accuracy = 79.56989247311827\n"
          ],
          "name": "stdout"
        }
      ]
    },
    {
      "cell_type": "code",
      "metadata": {
        "id": "4fc04ZS0VGXW",
        "colab": {
          "base_uri": "https://localhost:8080/"
        },
        "outputId": "6ff011a1-fab6-4b1b-d0d1-427cdb7fb61d"
      },
      "source": [
        "l1=[\"Logistic regression\",\"KNN\",\"Random Forest\",\"SVM\",\"MLP\"]\r\n",
        "print(l1)\r\n",
        "print(l2)"
      ],
      "execution_count": null,
      "outputs": [
        {
          "output_type": "stream",
          "text": [
            "['Logistic regression', 'KNN', 'Random Forest', 'SVM', 'MLP']\n",
            "[68.81720430107528, 66.12903225806451, 72.58064516129032, 67.74193548387096, 79.56989247311827]\n"
          ],
          "name": "stdout"
        }
      ]
    },
    {
      "cell_type": "code",
      "metadata": {
        "id": "3zwTRFkl6q_G"
      },
      "source": [
        "import matplotlib.pyplot as plt\r\n"
      ],
      "execution_count": null,
      "outputs": []
    },
    {
      "cell_type": "code",
      "metadata": {
        "colab": {
          "base_uri": "https://localhost:8080/",
          "height": 285
        },
        "id": "6O0rFjMS7iBf",
        "outputId": "65e6f68e-820f-42ac-81b0-9dd9527a9a07"
      },
      "source": [
        "plt.plot(l1,l2)\r\n",
        "plt.xlabel(\"Algoritms in percentage\")\r\n",
        "plt.ylabel('Accuracy')\r\n",
        "plt.grid()\r\n",
        "plt.show()"
      ],
      "execution_count": null,
      "outputs": [
        {
          "output_type": "display_data",
          "data": {
            "image/png": "[encoded data removed]",
            "text/plain": [
              "<Figure size 432x288 with 1 Axes>"
            ]
          },
          "metadata": {
            "tags": []
          }
        }
      ]
    },
    {
      "cell_type": "code",
      "metadata": {
        "id": "G5Io_M_A7wjD"
      },
      "source": [
        ""
      ],
      "execution_count": null,
      "outputs": []
    }
  ]
}